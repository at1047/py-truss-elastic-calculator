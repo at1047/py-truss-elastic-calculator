{
 "cells": [
  {
   "cell_type": "code",
   "execution_count": 37,
   "id": "4a3dec6e",
   "metadata": {},
   "outputs": [],
   "source": [
    "# import module\n",
    "import numpy as np\n",
    "import matplotlib.pyplot as plt\n",
    "import math\n",
    "import sympy as sym\n"
   ]
  },
  {
   "cell_type": "code",
   "execution_count": 18,
   "id": "d3532d3e",
   "metadata": {},
   "outputs": [],
   "source": [
    "\n",
    "def plot_points(points):\n",
    "    x = []\n",
    "    y = []\n",
    "    for point in points:\n",
    "        # initialize x and y coordinates\n",
    "        x.append(point[0])\n",
    "        y.append(point[1])\n",
    "\n",
    "    # set the title of a plot\n",
    "    plt.title(\"Connected Scatterplot points with lines\")\n",
    "\n",
    "    # plot scatter plot with x and y data\n",
    "    plt.scatter(x, y)\n",
    "\n",
    "    ax = plt.gca()\n",
    "    ax.set_aspect('equal', adjustable='box')\n",
    "    # plot with x and y data\n",
    "    plt.plot(x, y)"
   ]
  },
  {
   "cell_type": "code",
   "execution_count": 20,
   "id": "a0285f10",
   "metadata": {},
   "outputs": [
    {
     "data": {
      "image/png": "[encoded data removed]",
      "text/plain": [
       "<Figure size 640x480 with 1 Axes>"
      ]
     },
     "metadata": {},
     "output_type": "display_data"
    }
   ],
   "source": [
    "PointA = (0,0)\n",
    "PointC = (24,2)\n",
    "PointB = (33,-2)\n",
    "\n",
    "points = [PointA, PointB, PointC]\n",
    "plot_points(points)\n",
    "\n"
   ]
  },
  {
   "cell_type": "code",
   "execution_count": null,
   "id": "211300e3",
   "metadata": {},
   "outputs": [
    {
     "name": "stdout",
     "output_type": "stream",
     "text": [
      "12.246689727311349\n",
      "33\n",
      "9.8\n",
      "7.901839299971337\n",
      "2.660294159890404\n",
      "152.42362762502117\n",
      "-0.07583194546376584\n",
      "66.76847805236117\n",
      "14.273229026095064\n",
      "Solution for linear system using SymPy: {F: 6.62655749450103, T_a: 13.1537358087040}\n"
     ]
    }
   ],
   "source": [
    "L_a = 24\n",
    "L_c = 9.8\n",
    "\n",
    "A_to_B_offset = -7\n",
    "\n",
    "L_b = 33\n",
    "T_b = 14\n",
    "\n",
    "theta_A_1 = math.asin(abs(A_to_B_offset)/L_b)\n",
    "theta_A_1_deg = math.degrees(theta_A_1)\n",
    "\n",
    "print(theta_A_1_deg)\n",
    "\n",
    "theta_A = math.acos((L_b**2 + L_a**2 - L_c**2)/(2*L_b*L_a))\n",
    "theta_A_deg = math.degrees(theta_A)\n",
    "\n",
    "theta_A_2 = theta_A - theta_A_1\n",
    "theta_A_2_deg = math.degrees(theta_A_2)\n",
    "\n",
    "theta_C_2 = theta_A_2\n",
    "theta_C_2_deg = math.degrees(theta_C_2)\n",
    "\n",
    "print(L_b)\n",
    "print(L_c)\n",
    "print(theta_A_deg)\n",
    "theta_C = math.pi - math.asin(L_b * math.sin(theta_A)/L_c) #obtuse angle\n",
    "theta_C_deg = math.degrees(theta_C)\n",
    "\n",
    "theta_C_1 = theta_C - theta_C_2 - math.pi/2\n",
    "theta_C_1_deg = math.degrees(theta_C_1)\n",
    "\n",
    "print(theta_C)\n",
    "print(theta_C_deg)\n",
    "\n",
    "print(theta_C_2)\n",
    "print(theta_C_1_deg)\n",
    "\n",
    "# Force at Point B\n",
    "# T_c = T_b * math.cos(theta_A_1) / math.sin(theta_C_1 - math.pi/2)\n",
    "\n",
    "F_u = 0 # Assume\n",
    "T_c = (T_b * math.cos(theta_A_1 - math.radians(12)) + F_u)/ math.sin(theta_C_1 + math.radians(12))\n",
    "\n",
    "print(T_c)\n",
    "\n",
    "# Force at Point C\n",
    "\n",
    "T_a, F = sym.symbols('T_a F')\n",
    "\n",
    "# Define the equations using sym.Eq()\n",
    "# Example 1: Linear equations\n",
    "eq1_linear = sym.Eq(F + T_a * math.sin(theta_C_2) - T_c * math.cos(theta_C_1), 0)\n",
    "eq2_linear = sym.Eq(T_a * math.cos(theta_C_2) - T_c * math.sin(theta_C_1), 0)\n",
    "\n",
    "# Solve the linear system\n",
    "solution_linear = sym.solve([eq1_linear, eq2_linear], (T_a, F))\n",
    "print(f\"Solution for linear system using SymPy: {solution_linear}\")\n",
    "\n"
   ]
  }
 ],
 "metadata": {
  "kernelspec": {
   "display_name": "base",
   "language": "python",
   "name": "python3"
  },
  "language_info": {
   "codemirror_mode": {
    "name": "ipython",
    "version": 3
   },
   "file_extension": ".py",
   "mimetype": "text/x-python",
   "name": "python",
   "nbconvert_exporter": "python",
   "pygments_lexer": "ipython3",
   "version": "3.11.7"
  }
 },
 "nbformat": 4,
 "nbformat_minor": 5
}
